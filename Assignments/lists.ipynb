{
 "cells": [
  {
   "cell_type": "markdown",
   "metadata": {},
   "source": [
    "# EXERCISES : MODULE 5"
   ]
  },
  {
   "cell_type": "code",
   "execution_count": 8,
   "metadata": {},
   "outputs": [
    {
     "name": "stdout",
     "output_type": "stream",
     "text": [
      "0\n"
     ]
    }
   ],
   "source": [
    "empty_list = []\n",
    "print(len(empty_list))"
   ]
  },
  {
   "cell_type": "code",
   "execution_count": 11,
   "metadata": {},
   "outputs": [
    {
     "name": "stdout",
     "output_type": "stream",
     "text": [
      "['Abubakar', 'Hamisu', 'Idris', 'Shehu', 'Buhari']\n"
     ]
    }
   ],
   "source": [
    "students = ['Abubakar', 'Hamisu', 'Idris', 'Shehu', 'Buhari']\n",
    "print(students)"
   ]
  },
  {
   "cell_type": "code",
   "execution_count": 13,
   "metadata": {},
   "outputs": [
    {
     "name": "stdout",
     "output_type": "stream",
     "text": [
      "5\n"
     ]
    }
   ],
   "source": [
    "print(len(students))"
   ]
  },
  {
   "cell_type": "code",
   "execution_count": 21,
   "metadata": {},
   "outputs": [
    {
     "name": "stdout",
     "output_type": "stream",
     "text": [
      "['Abubakar', 'Idris', 'Buhari']\n"
     ]
    }
   ],
   "source": [
    "print(students[::2])"
   ]
  },
  {
   "cell_type": "code",
   "execution_count": 29,
   "metadata": {},
   "outputs": [
    {
     "name": "stdout",
     "output_type": "stream",
     "text": [
      "['Mujahid', 26, '183cm', 'single', 'mariri_town']\n"
     ]
    }
   ],
   "source": [
    "mixed_data_types = ['Mujahid', 26, '183cm', 'single', 'mariri_town']\n",
    "print(mixed_data_types)"
   ]
  },
  {
   "cell_type": "code",
   "execution_count": 31,
   "metadata": {},
   "outputs": [
    {
     "name": "stdout",
     "output_type": "stream",
     "text": [
      "['Facebook', 'Google', 'Microsoft', 'Apple', 'IBM', 'Oracle', 'Amazon']\n"
     ]
    }
   ],
   "source": [
    "companies = ['Facebook', 'Google', 'Microsoft', 'Apple', 'IBM', 'Oracle', 'Amazon']\n",
    "print(companies)"
   ]
  },
  {
   "cell_type": "code",
   "execution_count": 34,
   "metadata": {},
   "outputs": [
    {
     "data": {
      "text/plain": [
       "7"
      ]
     },
     "execution_count": 34,
     "metadata": {},
     "output_type": "execute_result"
    }
   ],
   "source": [
    "len(companies)"
   ]
  },
  {
   "cell_type": "code",
   "execution_count": 36,
   "metadata": {},
   "outputs": [
    {
     "name": "stdout",
     "output_type": "stream",
     "text": [
      "['Facebook', 'Apple', 'Amazon']\n"
     ]
    }
   ],
   "source": [
    "print(companies[::3])"
   ]
  },
  {
   "cell_type": "code",
   "execution_count": 39,
   "metadata": {},
   "outputs": [
    {
     "name": "stdout",
     "output_type": "stream",
     "text": [
      "['Dangote', 'Google', 'Microsoft', 'Apple', 'IBM', 'Oracle', 'Amazon']\n"
     ]
    }
   ],
   "source": [
    "companies[0] = 'Dangote'\n",
    "print(companies)"
   ]
  },
  {
   "cell_type": "code",
   "execution_count": 41,
   "metadata": {},
   "outputs": [
    {
     "name": "stdout",
     "output_type": "stream",
     "text": [
      "['Dangote', 'Google', 'Microsoft', 'Apple', 'IBM', 'Oracle', 'Amazon', 'MTN', 'MTN']\n"
     ]
    }
   ],
   "source": [
    "companies.append('MTN')\n",
    "print(companies)"
   ]
  },
  {
   "cell_type": "code",
   "execution_count": 43,
   "metadata": {},
   "outputs": [
    {
     "name": "stdout",
     "output_type": "stream",
     "text": [
      "['Dangote', 'Google', 'Microsoft', 'Apple', '9mobile', '9mobile', 'IBM', 'Oracle', 'Amazon', 'MTN', 'MTN']\n"
     ]
    }
   ],
   "source": [
    "companies.insert(4, \"9mobile\")\n",
    "print(companies)"
   ]
  },
  {
   "cell_type": "code",
   "execution_count": 45,
   "metadata": {},
   "outputs": [
    {
     "name": "stdout",
     "output_type": "stream",
     "text": [
      "['9mobile', '9mobile', 'Amazon', 'Apple', 'Dangote', 'Google', 'IBM', 'MTN', 'MTN', 'Microsoft', 'Oracle']\n"
     ]
    }
   ],
   "source": [
    "companies.sort()\n",
    "print(companies)"
   ]
  },
  {
   "cell_type": "code",
   "execution_count": 49,
   "metadata": {},
   "outputs": [
    {
     "ename": "NameError",
     "evalue": "name 'Dangote' is not defined",
     "output_type": "error",
     "traceback": [
      "\u001b[1;31m---------------------------------------------------------------------------\u001b[0m",
      "\u001b[1;31mNameError\u001b[0m                                 Traceback (most recent call last)",
      "Cell \u001b[1;32mIn[49], line 1\u001b[0m\n\u001b[1;32m----> 1\u001b[0m \u001b[43mDangote\u001b[49m\u001b[38;5;241m.\u001b[39mupper()\n\u001b[0;32m      2\u001b[0m \u001b[38;5;28mprint\u001b[39m(Dangote)\n",
      "\u001b[1;31mNameError\u001b[0m: name 'Dangote' is not defined"
     ]
    }
   ],
   "source": [
    "Dangote.upper()\n",
    "print(Dangote)"
   ]
  },
  {
   "cell_type": "code",
   "execution_count": 51,
   "metadata": {},
   "outputs": [
    {
     "name": "stdout",
     "output_type": "stream",
     "text": [
      "2\n"
     ]
    }
   ],
   "source": [
    "print(companies.index('Amazon'))"
   ]
  },
  {
   "cell_type": "code",
   "execution_count": 10,
   "metadata": {},
   "outputs": [
    {
     "name": "stdout",
     "output_type": "stream",
     "text": [
      "True\n"
     ]
    }
   ],
   "source": [
    "print('Apple' in companies)"
   ]
  },
  {
   "cell_type": "code",
   "execution_count": 11,
   "metadata": {},
   "outputs": [
    {
     "name": "stdout",
     "output_type": "stream",
     "text": [
      "['Amazon', 'Apple', 'Facebook', 'Google', 'IBM', 'Microsoft', 'Oracle']\n"
     ]
    }
   ],
   "source": [
    "companies.sort()\n",
    "print(companies)"
   ]
  },
  {
   "cell_type": "code",
   "execution_count": 7,
   "metadata": {},
   "outputs": [
    {
     "name": "stdout",
     "output_type": "stream",
     "text": [
      "['Oracle', 'Microsoft', 'IBM', 'Google', 'Facebook', 'Apple', 'Amazon']\n"
     ]
    }
   ],
   "source": [
    "companies = ['Facebook', 'Google', 'Microsoft', 'Apple', 'IBM', 'Oracle', 'Amazon']\n",
    "companies.sort(reverse = True)\n",
    "print(companies)"
   ]
  },
  {
   "cell_type": "code",
   "execution_count": 27,
   "metadata": {},
   "outputs": [
    {
     "name": "stdout",
     "output_type": "stream",
     "text": [
      "['Apple', 'IBM', 'Oracle']\n"
     ]
    }
   ],
   "source": [
    "companies = ['Facebook', 'Google', 'Microsoft', 'Apple', 'IBM', 'Oracle', 'Amazon']\n",
    "last_three_companies = companies[-4:-1]\n",
    "print(last_three_companies)"
   ]
  },
  {
   "cell_type": "code",
   "execution_count": 28,
   "metadata": {},
   "outputs": [
    {
     "name": "stdout",
     "output_type": "stream",
     "text": [
      "['Facebook', 'Google', 'Microsoft']\n"
     ]
    }
   ],
   "source": [
    "first_three_companies = companies[0:3]\n",
    "print(first_three_companies)"
   ]
  },
  {
   "cell_type": "code",
   "execution_count": 30,
   "metadata": {},
   "outputs": [
    {
     "name": "stdout",
     "output_type": "stream",
     "text": [
      "Apple\n"
     ]
    }
   ],
   "source": [
    "middle_company = companies[3]\n",
    "print(middle_company)"
   ]
  },
  {
   "cell_type": "code",
   "execution_count": 32,
   "metadata": {},
   "outputs": [
    {
     "name": "stdout",
     "output_type": "stream",
     "text": [
      "['Google', 'Microsoft', 'Apple', 'IBM', 'Oracle', 'Amazon']\n"
     ]
    }
   ],
   "source": [
    "remove_first_company = companies [1:]\n",
    "print(remove_first_company)"
   ]
  },
  {
   "cell_type": "code",
   "execution_count": 36,
   "metadata": {},
   "outputs": [
    {
     "name": "stdout",
     "output_type": "stream",
     "text": [
      "['Google', 'Microsoft', 'Apple', 'IBM', 'Oracle', 'Amazon']\n"
     ]
    }
   ],
   "source": [
    "companies = ['Facebook', 'Google', 'Microsoft', 'Apple', 'IBM', 'Oracle', 'Amazon']\n",
    "companies.remove('Facebook')\n",
    "print(companies)"
   ]
  },
  {
   "cell_type": "code",
   "execution_count": 38,
   "metadata": {},
   "outputs": [
    {
     "name": "stdout",
     "output_type": "stream",
     "text": [
      "['Facebook', 'Google', 'Microsoft', 'IBM', 'Oracle', 'Amazon']\n"
     ]
    }
   ],
   "source": [
    "companies = ['Facebook', 'Google', 'Microsoft', 'Apple', 'IBM', 'Oracle', 'Amazon']\n",
    "companies.remove('Apple')\n",
    "print(companies)"
   ]
  },
  {
   "cell_type": "code",
   "execution_count": 41,
   "metadata": {},
   "outputs": [
    {
     "name": "stdout",
     "output_type": "stream",
     "text": [
      "['Facebook', 'Google', 'Microsoft', 'Apple', 'IBM', 'Oracle']\n"
     ]
    }
   ],
   "source": [
    "companies = ['Facebook', 'Google', 'Microsoft', 'Apple', 'IBM', 'Oracle', 'Amazon']\n",
    "companies.remove('Amazon')\n",
    "print(companies)"
   ]
  },
  {
   "cell_type": "code",
   "execution_count": 51,
   "metadata": {},
   "outputs": [
    {
     "name": "stdout",
     "output_type": "stream",
     "text": [
      "[]\n"
     ]
    }
   ],
   "source": [
    "companies = ['Facebook', 'Google', 'Microsoft', 'Apple', 'IBM', 'Oracle', 'Amazon']\n",
    "companies.clear()\n",
    "print(companies)"
   ]
  },
  {
   "cell_type": "code",
   "execution_count": 57,
   "metadata": {},
   "outputs": [
    {
     "name": "stdout",
     "output_type": "stream",
     "text": [
      "Front_end_&_back_end: ['HTML', 'CSS', 'JS', 'React', 'Redux', 'Node', 'Express', 'MongoDB']\n"
     ]
    }
   ],
   "source": [
    "front_end = ['HTML', 'CSS', 'JS', 'React', 'Redux']\n",
    "back_end = ['Node', 'Express', 'MongoDB']\n",
    "front_end.extend(back_end)\n",
    "print('Front_end_&_back_end:', front_end)"
   ]
  },
  {
   "cell_type": "code",
   "execution_count": 60,
   "metadata": {},
   "outputs": [
    {
     "name": "stdout",
     "output_type": "stream",
     "text": [
      "[19, 19, 20, 22, 24, 24, 24, 25, 25, 26]\n"
     ]
    }
   ],
   "source": [
    "ages =[19, 22, 19, 24, 20, 25, 26, 24, 25, 24]\n",
    "ages.sort()\n",
    "print(ages)"
   ]
  },
  {
   "cell_type": "code",
   "execution_count": 63,
   "metadata": {},
   "outputs": [
    {
     "name": "stdout",
     "output_type": "stream",
     "text": [
      "19\n"
     ]
    }
   ],
   "source": [
    "ages =[19, 22, 19, 24, 20, 25, 26, 24, 25, 24]\n",
    "print(min(ages))"
   ]
  },
  {
   "cell_type": "code",
   "execution_count": 65,
   "metadata": {},
   "outputs": [
    {
     "name": "stdout",
     "output_type": "stream",
     "text": [
      "26\n"
     ]
    }
   ],
   "source": [
    "ages =[19, 22, 19, 24, 20, 25, 26, 24, 25, 24]\n",
    "print(max(ages))"
   ]
  },
  {
   "cell_type": "code",
   "execution_count": 4,
   "metadata": {},
   "outputs": [
    {
     "name": "stdout",
     "output_type": "stream",
     "text": [
      "[19, 22, 19, 24, 20, 25, 26, 24, 25, 24, 19, 26]\n"
     ]
    }
   ],
   "source": [
    "ages =[19, 22, 19, 24, 20, 25, 26, 24, 25, 24]\n",
    "min_age = min(ages) \n",
    "max_age = max(ages) \n",
    "ages.append(min_age)\n",
    "ages.append(max_age)\n",
    "print(ages)"
   ]
  },
  {
   "cell_type": "code",
   "execution_count": 10,
   "metadata": {},
   "outputs": [
    {
     "name": "stdout",
     "output_type": "stream",
     "text": [
      "The median age is 24.0\n"
     ]
    }
   ],
   "source": [
    "ages =[19, 22, 19, 24, 20, 25, 26, 24, 25, 24]\n",
    "ages.sort()\n",
    "n = len(ages)\n",
    "if n % 2 == 0:\n",
    "    median = (ages[n // 2 - 1] + ages[n // 2]) / 2\n",
    "else: \n",
    "    median = ages[n // 2]\n",
    "print(f\"The median age is {median}\")"
   ]
  },
  {
   "cell_type": "code",
   "execution_count": 13,
   "metadata": {},
   "outputs": [
    {
     "name": "stdout",
     "output_type": "stream",
     "text": [
      "The average age is 22.8\n"
     ]
    }
   ],
   "source": [
    "ages =[19, 22, 19, 24, 20, 25, 26, 24, 25, 24]\n",
    "total_sum = sum(ages)\n",
    "len(ages) \n",
    "number_of_ages = len(ages)\n",
    "average_age = total_sum / number_of_ages\n",
    "print(f\"The average age is {average_age}\")"
   ]
  },
  {
   "cell_type": "code",
   "execution_count": 15,
   "metadata": {},
   "outputs": [
    {
     "name": "stdout",
     "output_type": "stream",
     "text": [
      "7\n"
     ]
    }
   ],
   "source": [
    "ages =[19, 22, 19, 24, 20, 25, 26, 24, 25, 24]\n",
    "max_age = max(ages)\n",
    "min_age = min(ages)\n",
    "range = max_age - min_age\n",
    "print(range)"
   ]
  },
  {
   "cell_type": "code",
   "execution_count": 20,
   "metadata": {},
   "outputs": [
    {
     "name": "stdout",
     "output_type": "stream",
     "text": [
      "Absolute difference between min age and average age: 3.8000000000000007\n",
      "Absolute difference between max age and average age: 3.1999999999999993\n"
     ]
    }
   ],
   "source": [
    "ages =[19, 22, 19, 24, 20, 25, 26, 24, 25, 24]\n",
    "total_sum = sum(ages)\n",
    "number_of_ages = len(ages)\n",
    "average_age = total_sum / number_of_ages\n",
    "min_age = min(ages)\n",
    "max_age = max(ages)\n",
    "min_diff = abs(min_age - average_age)\n",
    "max_diff = abs(max_age - average_age)\n",
    "print(f\"Absolute difference between min age and average age: {min_diff}\")\n",
    "print(f\"Absolute difference between max age and average age: {max_diff}\")"
   ]
  },
  {
   "cell_type": "code",
   "execution_count": 34,
   "metadata": {},
   "outputs": [
    {
     "ename": "IndentationError",
     "evalue": "unindent does not match any outer indentation level (<string>, line 9)",
     "output_type": "error",
     "traceback": [
      "\u001b[1;36m  File \u001b[1;32m<string>:9\u001b[1;36m\u001b[0m\n\u001b[1;33m    print(f\"The middle country/countries: {middle_countries}\")\u001b[0m\n\u001b[1;37m                                                                  ^\u001b[0m\n\u001b[1;31mIndentationError\u001b[0m\u001b[1;31m:\u001b[0m unindent does not match any outer indentation level\n"
     ]
    }
   ],
   "source": [
    "countries = ['Afghanistan', 'Albania',  'Algeria',  'Andorra',  'Angola',   'Antigua_and_Barbuda',  'Argentina',    'Armenia',   'Australia',   'Austria',   'Azerbaijan',   'Bahamas',   'Bahrain',   'Bangladesh',   'Barbados',   'Belarus',   'Belgium',   'Belize',   'Benin',   'Bhutan',   'Bolivia',   'Bosnia and Herzegovina',   'Botswana',   'Brazil',   'Brunei',   'Bulgaria',   'Burkina Faso',   'Burundi',   'Cambodia',   'Cameroon',   'Canada',   'Cape Verde',   'Central African Republic',   'Chad',   'Chile',   'China',   'Colombi',   'Comoros',   'Congo (Brazzaville)',   'Congo',   'Costa Rica',   \"Cote d'Ivoire\",   'Croatia',   'Cuba',   'Cyprus',   'Czech Republic',   'Denmark',   'Djibouti',   'Dominica',   'Dominican Republic',   'East Timor (Timor Timur)',   'Ecuador',   'Egypt',   'El Salvador',   'Equatorial Guinea',   'Eritrea',   'Estonia',   'Ethiopia',   'Fiji',   'Finland',   'France',   'Gabon',   'Gambia, The',   'Georgia',   'Germany',   'Ghana',   'Greece',   'Grenada',   'Guatemala',   'Guinea',   'Guinea-Bissau',   'Guyana',   'Haiti',   'Honduras',   'Hungary',   'Iceland',   'India',   'Indonesia',   'Iran',   'Iraq',   'Ireland',   'Israel',   'Italy',   'Jamaica',   'Japan',   'Jordan',   'Kazakhstan',   'Kenya',   'Kiribati',   'Korea, North',   'Korea, South',   'Kuwait',   'Kyrgyzstan',   'Laos',   'Latvia',   'Lebanon',   'Lesotho',   'Liberia',   'Libya',   'Liechtenstein',   'Lithuania',   'Luxembourg',   'Macedonia',   'Madagascar',   'Malawi',   'Malaysia',   'Maldives',   'Mali',   'Malta',   'Marshall Islands',   'Mauritania',   'Mauritius',   'Mexico',   'Micronesia',   'Moldova',   'Monaco',   'Mongolia',   'Morocco',   'Mozambique',   'Myanmar',   'Namibia',   'Nauru',   'Nepal',   'Netherlands',   'New Zealand',   'Nicaragua',   'Niger',   'Nigeria',   'Norway',   'Oman',   'Pakistan',   'Palau',   'Panama',   'Papua New Guinea',   'Paraguay',   'Peru',   'Philippines',   'Poland',   'Portugal',   'Qatar',   'Romania',   'Russia',   'Rwanda',   'Saint Kitts and Nevis',   'Saint Lucia',   'Saint Vincent',   'Samoa',   'San Marino',   'Sao Tome and Principe',   'Saudi Arabia',   'Senegal',   'Serbia and Montenegro',   'Seychelles',   'Sierra Leone',   'Singapore',   'Slovakia',   'Slovenia',   'Solomon Islands',   'Somalia',   'South Africa',   'Spain',   'Sri Lanka',   'Sudan',   'Suriname',   'Swaziland',   'Sweden',   'Switzerland',   'Syria',   'Taiwan',   'Tajikistan',   'Tanzania',   'Thailand',   'Togo',   'Tonga',   'Trinidad and Tobago',   'Tunisia',   'Turkey',   'Turkmenistan',   'Tuvalu',   'Uganda',   'Ukraine',   'United Arab Emirates',   'United Kingdom',   'United States',   'Uruguay',   'Uzbekistan',   'Vanuatu',   'Vatican City',   'Venezuela',   'Vietnam',   'Yemen',   'Zambia',   'Zimbabwe', ]\n",
    "num_countries = len(countries)\n",
    "if num_countries % 2 == 0:\n",
    "    middle1 = countries[num_countries // 2 - 1]\n",
    "    middle2 = countries[num_countries // 2]\n",
    "    middle_countries = [middle1, middle2] \n",
    "else:  \n",
    "    middle_countries = (countries[num_countries // 2])  \n",
    " print(f\"The middle country/countries: {middle_countries}\")    "
   ]
  },
  {
   "cell_type": "code",
   "execution_count": 44,
   "metadata": {},
   "outputs": [
    {
     "name": "stdout",
     "output_type": "stream",
     "text": [
      "First country: China\n",
      "Second country: Russia\n",
      "Third country: USA\n",
      "rest: ['Finland', 'Sweden', 'Norway', 'Denmark']\n"
     ]
    }
   ],
   "source": [
    "countries = ['China', 'Russia', 'USA', 'Finland', 'Sweden', 'Norway', 'Denmark']\n",
    "first, second, third, *scandic_countries = countries \n",
    "print(f\"First country: {first}\") \n",
    "print(f\"Second country: {second}\")\n",
    "print(f\"Third country: {third}\")\n",
    "print(f\"rest: {scandic_countries}\")"
   ]
  }
 ],
 "metadata": {
  "kernelspec": {
   "display_name": "Python 3",
   "language": "python",
   "name": "python3"
  },
  "language_info": {
   "codemirror_mode": {
    "name": "ipython",
    "version": 3
   },
   "file_extension": ".py",
   "mimetype": "text/x-python",
   "name": "python",
   "nbconvert_exporter": "python",
   "pygments_lexer": "ipython3",
   "version": "3.13.0"
  }
 },
 "nbformat": 4,
 "nbformat_minor": 2
}
