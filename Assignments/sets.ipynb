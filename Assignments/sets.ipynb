<<<<<<< HEAD
{
 "cells": [
  {
   "cell_type": "markdown",
   "metadata": {},
   "source": [
    "# EXERCISES LEVEL 1"
   ]
  },
  {
   "cell_type": "code",
   "execution_count": 2,
   "metadata": {},
   "outputs": [
    {
     "data": {
      "text/plain": [
       "7"
      ]
     },
     "execution_count": 2,
     "metadata": {},
     "output_type": "execute_result"
    }
   ],
   "source": [
    "it_companies = {'Facebook', 'Google', 'Microsoft', 'Apple', 'IBM', 'Oracle', 'Amazon'}\n",
    "len(it_companies)"
   ]
  },
  {
   "cell_type": "code",
   "execution_count": 5,
   "metadata": {},
   "outputs": [
    {
     "name": "stdout",
     "output_type": "stream",
     "text": [
      "{'IBM', 'Microsoft', 'Oracle', 'Facebook', 'Apple', 'Amazon', 'Google', 'Twitter'}\n"
     ]
    }
   ],
   "source": [
    "it_companies.add('Twitter')\n",
    "print(it_companies)"
   ]
  },
  {
   "cell_type": "code",
   "execution_count": 8,
   "metadata": {},
   "outputs": [
    {
     "name": "stdout",
     "output_type": "stream",
     "text": [
      "{'Microsoft', 'Facebook', '9MOBILE', 'Amazon', 'TELEGRAM', 'IBM', 'MTN', 'Google', 'Oracle', 'Apple', 'GLO', 'Twitter'}\n"
     ]
    }
   ],
   "source": [
    "it_companies.update(['MTN', 'GLO', '9MOBILE', 'TELEGRAM'])\n",
    "print(it_companies)"
   ]
  },
  {
   "cell_type": "code",
   "execution_count": 25,
   "metadata": {},
   "outputs": [
    {
     "name": "stdout",
     "output_type": "stream",
     "text": [
      "{'Microsoft', 'Facebook', '9MOBILE', 'Amazon', 'Google', 'TELEGRAM', 'IBM', 'Oracle', 'GLO', 'MTN', 'Twitter'}\n"
     ]
    }
   ],
   "source": [
    "it_companies = {'Microsoft', 'Facebook', '9MOBILE', 'Amazon', 'TELEGRAM', 'IBM', 'MTN', 'Google', 'Oracle', 'Apple', 'GLO', 'Twitter'}\n",
    "it_companies.remove('Apple')\n",
    "print(it_companies)"
   ]
  },
  {
   "cell_type": "markdown",
   "metadata": {},
   "source": [
    "For remove code, when the item is not found, remove() method will raise errors. However, discard() method doesn't raise any errors.\n"
   ]
  },
  {
   "cell_type": "markdown",
   "metadata": {},
   "source": [
    "# EXERCISES: LEVEL_2"
   ]
  },
  {
   "cell_type": "code",
   "execution_count": 38,
   "metadata": {},
   "outputs": [
    {
     "name": "stdout",
     "output_type": "stream",
     "text": [
      "{0, 67, 4, 7, 9, 12, 20, 54, 86, 56, 90}\n"
     ]
    }
   ],
   "source": [
    "A = {20, 56, 7, 9,4, 0}\n",
    "B = {7, 12, 67, 20, 54, 90, 86}\n",
    "C = A.union(B)\n",
    "print(C)"
   ]
  },
  {
   "cell_type": "code",
   "execution_count": 29,
   "metadata": {},
   "outputs": [
    {
     "data": {
      "text/plain": [
       "{7, 20}"
      ]
     },
     "execution_count": 29,
     "metadata": {},
     "output_type": "execute_result"
    }
   ],
   "source": [
    "A.intersection(B)"
   ]
  },
  {
   "cell_type": "code",
   "execution_count": 33,
   "metadata": {},
   "outputs": [
    {
     "data": {
      "text/plain": [
       "False"
      ]
     },
     "execution_count": 33,
     "metadata": {},
     "output_type": "execute_result"
    }
   ],
   "source": [
    "A.issubset(B)"
   ]
  },
  {
   "cell_type": "code",
   "execution_count": 35,
   "metadata": {},
   "outputs": [
    {
     "data": {
      "text/plain": [
       "False"
      ]
     },
     "execution_count": 35,
     "metadata": {},
     "output_type": "execute_result"
    }
   ],
   "source": [
    "A.isdisjoint(B)"
   ]
  },
  {
   "cell_type": "code",
   "execution_count": 40,
   "metadata": {},
   "outputs": [
    {
     "name": "stdout",
     "output_type": "stream",
     "text": [
      "{0, 67, 4, 7, 9, 12, 20, 54, 86, 56, 90}\n"
     ]
    }
   ],
   "source": [
    "A = {20, 56, 7, 9,4, 0}\n",
    "B = {7, 12, 67, 20, 54, 90, 86}\n",
    "C = A.union(B)\n",
    "\n",
    "A.update(B)\n",
    "print(C)"
   ]
  },
  {
   "cell_type": "code",
   "execution_count": 44,
   "metadata": {},
   "outputs": [
    {
     "name": "stdout",
     "output_type": "stream",
     "text": [
      "{0, 67, 4, 7, 9, 12, 20, 54, 86, 56, 90}\n"
     ]
    }
   ],
   "source": [
    "A = {20, 56, 7, 9, 4, 0}\n",
    "B = {7, 12, 67, 20, 54, 90, 86}\n",
    "C = A.union(B)\n",
    "\n",
    "B.update(A)\n",
    "print(C)"
   ]
  },
  {
   "cell_type": "code",
   "execution_count": 46,
   "metadata": {},
   "outputs": [
    {
     "data": {
      "text/plain": [
       "{12, 54, 67, 86, 90}"
      ]
     },
     "execution_count": 46,
     "metadata": {},
     "output_type": "execute_result"
    }
   ],
   "source": [
    "B.symmetric_difference(A)"
   ]
  },
  {
   "cell_type": "code",
   "execution_count": 53,
   "metadata": {},
   "outputs": [],
   "source": [
    "A = {20, 56, 7, 9, 4, 0}\n",
    "del A"
   ]
  },
  {
   "cell_type": "code",
   "execution_count": 56,
   "metadata": {},
   "outputs": [
    {
     "name": "stdout",
     "output_type": "stream",
     "text": [
      "{19, 20, 22, 24, 25, 26}\n"
     ]
    }
   ],
   "source": [
    "ages = [19, 22, 19, 24, 20, 25, 26, 24, 25, 24]\n",
    "ages = set (ages)\n",
    "print(ages)"
   ]
  },
  {
   "cell_type": "markdown",
   "metadata": {},
   "source": [
    "# EXERCISES: LEVEL_3"
   ]
  },
  {
   "cell_type": "code",
   "execution_count": 60,
   "metadata": {},
   "outputs": [
    {
     "name": "stdout",
     "output_type": "stream",
     "text": [
      "Length of the list: 10\n",
      "Length of the set: 6\n",
      "The list is bigger.\n"
     ]
    }
   ],
   "source": [
    "list_ages = [19, 22, 19, 24, 20, 25, 26, 24, 25, 24]\n",
    "ages_set = set(list_ages) \n",
    "length_of_list = len(list_ages)\n",
    "length_of_set = len(ages_set)\n",
    "if length_of_list > length_of_set: \n",
    "    bigger = \"list\"\n",
    "elif length_of_list < length_of_set: \n",
    "    bigger = \"set\" \n",
    "else: \n",
    "    bigger = \"both are equal\"\n",
    "print(f\"Length of the list: {length_of_list}\")\n",
    "print(f\"Length of the set: {length_of_set}\") \n",
    "print(f\"The {bigger} is bigger.\")"
   ]
  },
  {
   "cell_type": "code",
   "execution_count": 61,
   "metadata": {},
   "outputs": [
    {
     "name": "stdout",
     "output_type": "stream",
     "text": [
      "Unique words: {'teach', 'people', 'love', 'teacher', 'I', 'a', 'am', 'to', 'and', 'inspire'}\n",
      "Number of unique words: 10\n"
     ]
    }
   ],
   "source": [
    "sentence = \"I am a teacher and I love to inspire and teach people\"\n",
    "words = sentence.split() \n",
    "unique_words = set(words)\n",
    "num_unique_words = len(unique_words)\n",
    "print(f\"Unique words: {unique_words}\")\n",
    "print(f\"Number of unique words: {num_unique_words}\")"
   ]
  }
 ],
 "metadata": {
  "kernelspec": {
   "display_name": "Python 3",
   "language": "python",
   "name": "python3"
  },
  "language_info": {
   "codemirror_mode": {
    "name": "ipython",
    "version": 3
   },
   "file_extension": ".py",
   "mimetype": "text/x-python",
   "name": "python",
   "nbconvert_exporter": "python",
   "pygments_lexer": "ipython3",
   "version": "3.13.0"
  }
 },
 "nbformat": 4,
 "nbformat_minor": 2
}
=======

>>>>>>> 41af4f226429576bc2a8834697c091ad891360cc
