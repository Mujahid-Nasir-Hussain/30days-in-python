{
 "cells": [
  {
   "cell_type": "markdown",
   "metadata": {},
   "source": [
    "# EXERCISES - MODULE_3"
   ]
  },
  {
   "cell_type": "code",
   "execution_count": 2,
   "metadata": {},
   "outputs": [
    {
     "data": {
      "text/plain": [
       "int"
      ]
     },
     "execution_count": 2,
     "metadata": {},
     "output_type": "execute_result"
    }
   ],
   "source": [
    "age = 26\n",
    "type(age)"
   ]
  },
  {
   "cell_type": "code",
   "execution_count": 4,
   "metadata": {},
   "outputs": [
    {
     "data": {
      "text/plain": [
       "float"
      ]
     },
     "execution_count": 4,
     "metadata": {},
     "output_type": "execute_result"
    }
   ],
   "source": [
    "height = 1.83\n",
    "type(height)"
   ]
  },
  {
   "cell_type": "code",
   "execution_count": 6,
   "metadata": {},
   "outputs": [
    {
     "data": {
      "text/plain": [
       "complex"
      ]
     },
     "execution_count": 6,
     "metadata": {},
     "output_type": "execute_result"
    }
   ],
   "source": [
    "measurement = 23 +34j\n",
    "type(measurement)"
   ]
  },
  {
   "cell_type": "code",
   "execution_count": 12,
   "metadata": {},
   "outputs": [
    {
     "name": "stdout",
     "output_type": "stream",
     "text": [
      "100.0\n"
     ]
    }
   ],
   "source": [
    "base = 20\n",
    "height = 10\n",
    "area = 0.5\n",
    "Area_of_the_triangle = (area * base * height)\n",
    "print(Area_of_the_triangle)"
   ]
  },
  {
   "cell_type": "code",
   "execution_count": 13,
   "metadata": {},
   "outputs": [
    {
     "name": "stdout",
     "output_type": "stream",
     "text": [
      "12\n"
     ]
    }
   ],
   "source": [
    "side_a = 5\n",
    "side_b = 4\n",
    "side_c = 3\n",
    "perimeter = (side_a + side_b + side_c)\n",
    "print(perimeter)"
   ]
  },
  {
   "cell_type": "code",
   "execution_count": 19,
   "metadata": {},
   "outputs": [
    {
     "name": "stdout",
     "output_type": "stream",
     "text": [
      "20\n"
     ]
    }
   ],
   "source": [
    "length = 5\n",
    "width = 2\n",
    "area = 5 * 2\n",
    "perimeter = (2 * (5 * 2))\n",
    "print(perimeter)"
   ]
  },
  {
   "cell_type": "code",
   "execution_count": 21,
   "metadata": {},
   "outputs": [
    {
     "name": "stdout",
     "output_type": "stream",
     "text": [
      "Area of rectangle: 10\n"
     ]
    }
   ],
   "source": [
    "length = 5\n",
    "width = 2\n",
    "area_of_rectangle = length * width\n",
    "print('Area of rectangle:', area_of_rectangle)\n"
   ]
  },
  {
   "cell_type": "code",
   "execution_count": 28,
   "metadata": {},
   "outputs": [
    {
     "name": "stdout",
     "output_type": "stream",
     "text": [
      "The slope of the line is: 2\n",
      "The y-intercept of the line is: (0, -2 )\n",
      "The x-intercept of the line is: ( 1.0 , 0)\n"
     ]
    }
   ],
   "source": [
    "slope = 2\n",
    "intercept = -2\n",
    "y_intercept = intercept # (0, intercept)\n",
    "x_intercept = -intercept # (x, 0)\n",
    "x_intercept = -intercept / slope\n",
    "print(\"The slope of the line is:\", slope)\n",
    "print(\"The y-intercept of the line is: (0,\", y_intercept, \")\")\n",
    "print(\"The x-intercept of the line is: (\", x_intercept, \", 0)\")     \n"
   ]
  },
  {
   "cell_type": "code",
   "execution_count": 30,
   "metadata": {},
   "outputs": [
    {
     "name": "stdout",
     "output_type": "stream",
     "text": [
      "The slope between the points is: 2.0\n",
      "The Euclidean distance between the points is: 8.94427190999916\n"
     ]
    }
   ],
   "source": [
    "import math\n",
    "# Define the coordinates of the points\n",
    "x1, y1 = 2, 2 \n",
    "x2, y2 = 6, 10\n",
    "\n",
    "slope = (y2 - y1) / (x2 - x1)\n",
    "\n",
    "distance = math.sqrt((x2 - x1)**2 + (y2 - y1)**2)\n",
    "print(\"The slope between the points is:\", slope) \n",
    "print(\"The Euclidean distance between the points is:\", distance)"
   ]
  },
  {
   "cell_type": "code",
   "execution_count": 34,
   "metadata": {},
   "outputs": [
    {
     "name": "stdout",
     "output_type": "stream",
     "text": [
      "The slopes from the equation and the points are the same.\n"
     ]
    }
   ],
   "source": [
    "if 2 == 2.0: \n",
    "    print(\"The slopes from the equation and the points are the same.\") \n",
    "else: print(\"The slopes from the equation and the points are different.\")"
   ]
  },
  {
   "cell_type": "code",
   "execution_count": 38,
   "metadata": {},
   "outputs": [
    {
     "name": "stdout",
     "output_type": "stream",
     "text": [
      "True\n"
     ]
    }
   ],
   "source": [
    "print(len('python')== len ('dragon'))"
   ]
  },
  {
   "cell_type": "code",
   "execution_count": 11,
   "metadata": {},
   "outputs": [
    {
     "name": "stdout",
     "output_type": "stream",
     "text": [
      "True\n"
     ]
    }
   ],
   "source": [
    "word_1 = 'python'\n",
    "word_2 = 'jargon'\n",
    "substring = 'on'\n",
    "result = 'on' in word_1 and 'on' in word_2\n",
    "print(result)"
   ]
  },
  {
   "cell_type": "code",
   "execution_count": 46,
   "metadata": {},
   "outputs": [
    {
     "name": "stdout",
     "output_type": "stream",
     "text": [
      "True\n"
     ]
    }
   ],
   "source": [
    "print('jargon'in ' I hope this course is not full of jargon')"
   ]
  },
  {
   "cell_type": "code",
   "execution_count": 3,
   "metadata": {},
   "outputs": [
    {
     "name": "stdout",
     "output_type": "stream",
     "text": [
      "'on' is not found in both 'python' and 'dragon'\n"
     ]
    }
   ],
   "source": [
    "word1 = 'python'\n",
    "word2 = 'dragon' \n",
    "substring = 'on'\n",
    "if substring in word1 and substring in word2: \n",
    "    print(\"'on' is not found in both 'python' and 'dragon'\")\n",
    "else:\n",
    "    print(\"'on' is found in at least one of the words 'python' and 'dragon'\")"
   ]
  },
  {
   "cell_type": "code",
   "execution_count": 10,
   "metadata": {},
   "outputs": [
    {
     "name": "stdout",
     "output_type": "stream",
     "text": [
      "False\n"
     ]
    }
   ],
   "source": [
    "word_1 = 'python'\n",
    "word_2 = 'jargon'\n",
    "substring = 'on'\n",
    "result = 'on' not in word_1 and 'on' not in word_2\n",
    "print(result)\n"
   ]
  },
  {
   "cell_type": "code",
   "execution_count": 16,
   "metadata": {},
   "outputs": [
    {
     "name": "stdout",
     "output_type": "stream",
     "text": [
      "Length of the text 'python': 6\n",
      "Length as a float: 6.0\n",
      "Length as a string: 6.0\n"
     ]
    }
   ],
   "source": [
    "text = 'python'\n",
    "length = len(text)\n",
    "length_float = float(length)\n",
    "length_str = str(length_float)\n",
    "print(f\"Length of the text '{text}': {length}\")\n",
    "print(f\"Length as a float: {length_float}\")\n",
    "print(f\"Length as a string: {length_str}\")"
   ]
  },
  {
   "cell_type": "code",
   "execution_count": 19,
   "metadata": {},
   "outputs": [
    {
     "name": "stdout",
     "output_type": "stream",
     "text": [
      "Float value: 6.0\n",
      "Converted to string: 6.0\n"
     ]
    }
   ],
   "source": [
    "float_value = 6.0\n",
    "string_value = str(float_value)\n",
    "print(f\"Float value: {float_value}\") \n",
    "print(f\"Converted to string: {string_value}\")"
   ]
  },
  {
   "cell_type": "code",
   "execution_count": 28,
   "metadata": {},
   "outputs": [
    {
     "name": "stdout",
     "output_type": "stream",
     "text": [
      "2 is even\n"
     ]
    }
   ],
   "source": [
    "def is_even(number):\n",
    "    return number % 2 == 0\n",
    "\n",
    "number = 2\n",
    "if is_even(number):\n",
    "    print(f\"{number} is even\") \n",
    "else: \n",
    "    print(f\"{number} is not even\")\n"
   ]
  },
  {
   "cell_type": "code",
   "execution_count": 30,
   "metadata": {},
   "outputs": [
    {
     "name": "stdout",
     "output_type": "stream",
     "text": [
      "Floor division of 7 by 3: 2\n",
      "Integer converted value of 2.7: 2\n",
      "Are they equal? True\n"
     ]
    }
   ],
   "source": [
    "floor_division_result = 7 // 3\n",
    "int_value = int(2.7)\n",
    "is_equal = floor_division_result == int_value\n",
    "print(f\"Floor division of 7 by 3: {floor_division_result}\") \n",
    "print(f\"Integer converted value of 2.7: {int_value}\")\n",
    "print(f\"Are they equal? {is_equal}\")"
   ]
  },
  {
   "cell_type": "code",
   "execution_count": 32,
   "metadata": {},
   "outputs": [
    {
     "name": "stdout",
     "output_type": "stream",
     "text": [
      "Type of '10': <class 'str'>\n",
      "Type of 10: <class 'int'>\n",
      "Are the types equal? False\n"
     ]
    }
   ],
   "source": [
    "str_value = '10' \n",
    "int_value = 10\n",
    "types_equal = type(str_value) == type(int_value)\n",
    "print(f\"Type of '10': {type(str_value)}\")\n",
    "print(f\"Type of 10: {type(int_value)}\")\n",
    "print(f\"Are the types equal? {types_equal}\")"
   ]
  },
  {
   "cell_type": "code",
   "execution_count": 34,
   "metadata": {},
   "outputs": [
    {
     "name": "stdout",
     "output_type": "stream",
     "text": [
      "type_1 : <class 'float'> \n",
      "type_2 : <class 'int'> \n",
      "Are the types equal? False\n"
     ]
    }
   ],
   "source": [
    "type_1 = 9.8\n",
    "type_2 = 10\n",
    "types_equal = type(9.8) == type (10)\n",
    "print(f\"type_1 : {type(9.8)} \")\n",
    "print(f\"type_2 : {type(10)} \")\n",
    "print(f\"Are the types equal? {types_equal}\")"
   ]
  },
  {
   "cell_type": "code",
   "execution_count": 39,
   "metadata": {},
   "outputs": [
    {
     "name": "stdout",
     "output_type": "stream",
     "text": [
      "Your weekly earning is 1120\n"
     ]
    }
   ],
   "source": [
    "hours = 40\n",
    "rate_per_hour = 28\n",
    "weekly_earning = hours * rate_per_hour\n",
    "print(f\"Your weekly earning is {weekly_earning}\")"
   ]
  },
  {
   "cell_type": "code",
   "execution_count": 42,
   "metadata": {},
   "outputs": [
    {
     "name": "stdout",
     "output_type": "stream",
     "text": [
      "You have lived for 3153600000 seconds.\n"
     ]
    }
   ],
   "source": [
    "SECONDS_IN_A_MINUTE = 60 \n",
    "MINUTES_IN_AN_HOUR = 60 \n",
    "HOURS_IN_A_DAY = 24 \n",
    "DAYS_IN_A_YEAR = 365\n",
    "SECONDS_IN_A_YEAR = SECONDS_IN_A_MINUTE * MINUTES_IN_AN_HOUR * HOURS_IN_A_DAY * DAYS_IN_A_YEAR\n",
    "years_lived = 100\n",
    "seconds_lived = years_lived * SECONDS_IN_A_YEAR\n",
    "print(f\"You have lived for {seconds_lived} seconds.\")"
   ]
  },
  {
   "cell_type": "code",
   "execution_count": 43,
   "metadata": {},
   "outputs": [
    {
     "name": "stdout",
     "output_type": "stream",
     "text": [
      "n\t1\tn\tn^2\tn^3\n",
      "1\t1\t1\t1\t1\n",
      "2\t1\t2\t4\t8\n",
      "3\t1\t3\t9\t27\n",
      "4\t1\t4\t16\t64\n",
      "5\t1\t5\t25\t125\n"
     ]
    }
   ],
   "source": [
    "print(\"n\", \"1\", \"n\", \"n^2\", \"n^3\", sep=\"\\t\")\n",
    "for n in range(1, 6):\n",
    "     print(n, 1, n, n**2, n**3, sep=\"\\t\")"
   ]
  }
 ],
 "metadata": {
  "kernelspec": {
   "display_name": "Python 3",
   "language": "python",
   "name": "python3"
  },
  "language_info": {
   "codemirror_mode": {
    "name": "ipython",
    "version": 3
   },
   "file_extension": ".py",
   "mimetype": "text/x-python",
   "name": "python",
   "nbconvert_exporter": "python",
   "pygments_lexer": "ipython3",
   "version": "3.13.0"
  }
 },
 "nbformat": 4,
 "nbformat_minor": 2
}
