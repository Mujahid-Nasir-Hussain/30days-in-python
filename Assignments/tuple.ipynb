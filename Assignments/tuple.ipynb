{
 "cells": [
  {
   "cell_type": "markdown",
   "metadata": {},
   "source": [
    "# TUPLE_EXERCISES"
   ]
  },
  {
   "cell_type": "code",
   "execution_count": 2,
   "metadata": {},
   "outputs": [
    {
     "name": "stdout",
     "output_type": "stream",
     "text": [
      "()\n"
     ]
    }
   ],
   "source": [
    "empty_tuple = ()\n",
    "print(empty_tuple)"
   ]
  },
  {
   "cell_type": "code",
   "execution_count": 4,
   "metadata": {},
   "outputs": [
    {
     "data": {
      "text/plain": [
       "tuple"
      ]
     },
     "execution_count": 4,
     "metadata": {},
     "output_type": "execute_result"
    }
   ],
   "source": [
    "type(empty_tuple)"
   ]
  },
  {
   "cell_type": "code",
   "execution_count": 9,
   "metadata": {},
   "outputs": [
    {
     "name": "stdout",
     "output_type": "stream",
     "text": [
      "('hamisu', 'shamsu', 'bilya')\n",
      "('fatima', 'bahijja', 'zainab')\n"
     ]
    }
   ],
   "source": [
    "brothers = ('hamisu', 'shamsu', 'bilya')\n",
    "sisters = ('fatima', 'bahijja', 'zainab')\n",
    "print(brothers)\n",
    "print(sisters)"
   ]
  },
  {
   "cell_type": "code",
   "execution_count": 11,
   "metadata": {},
   "outputs": [
    {
     "name": "stdout",
     "output_type": "stream",
     "text": [
      "('hamisu', 'shamsu', 'bilya', 'fatima', 'bahijja', 'zainab')\n"
     ]
    }
   ],
   "source": [
    "siblings = brothers + sisters\n",
    "print(siblings)"
   ]
  },
  {
   "cell_type": "code",
   "execution_count": 14,
   "metadata": {},
   "outputs": [
    {
     "data": {
      "text/plain": [
       "6"
      ]
     },
     "execution_count": 14,
     "metadata": {},
     "output_type": "execute_result"
    }
   ],
   "source": [
    "len(siblings)"
   ]
  },
  {
   "cell_type": "code",
   "execution_count": 17,
   "metadata": {},
   "outputs": [
    {
     "name": "stdout",
     "output_type": "stream",
     "text": [
      "['nasir', 'naima', 'bilya', 'fatima', 'bahijja', 'zainab']\n"
     ]
    }
   ],
   "source": [
    "family_members = ('hamisu', 'shamsu', 'bilya', 'fatima', 'bahijja', 'zainab')\n",
    "family_members = list(family_members)\n",
    "family_members[0] = 'nasir'\n",
    "family_members[1] = 'naima'\n",
    "print(family_members)"
   ]
  },
  {
   "cell_type": "code",
   "execution_count": 19,
   "metadata": {},
   "outputs": [
    {
     "name": "stdout",
     "output_type": "stream",
     "text": [
      "['hamisu', 'shamsu', 'bilya', 'fatima', 'bahijja', 'zainab', 'nasir', 'naima']\n"
     ]
    }
   ],
   "source": [
    "family_members = ('hamisu', 'shamsu', 'bilya', 'fatima', 'bahijja', 'zainab')\n",
    "family_members = list(family_members)\n",
    "family_members.append('nasir')\n",
    "family_members.append('naima')\n",
    "print(family_members)"
   ]
  },
  {
   "cell_type": "markdown",
   "metadata": {},
   "source": [
    "# EXERCISE 2"
   ]
  },
  {
   "cell_type": "code",
   "execution_count": 25,
   "metadata": {},
   "outputs": [
    {
     "name": "stdout",
     "output_type": "stream",
     "text": [
      "nasir\n",
      "naima\n",
      "['hamisu', 'shamsu', 'bilya', 'fatima', 'bahijja', 'zainab']\n"
     ]
    }
   ],
   "source": [
    "family_members = ('nasir', 'naima', 'hamisu', 'shamsu', 'bilya', 'fatima', 'bahijja', 'zainab')\n",
    "family_members = list(family_members)\n",
    "father, mother, *remaining_family_members = family_members\n",
    "print(father)\n",
    "print(mother)\n",
    "print(remaining_family_members)"
   ]
  },
  {
   "cell_type": "code",
   "execution_count": 27,
   "metadata": {},
   "outputs": [
    {
     "name": "stdout",
     "output_type": "stream",
     "text": [
      "('apple', 'banana', 'cherry', 'carrot', 'broccoli', 'spinach', 'milk', 'egg', 'cheese')\n"
     ]
    }
   ],
   "source": [
    "fruits = ('apple', 'banana', 'cherry')\n",
    "vegetables = ('carrot', 'broccoli', 'spinach')\n",
    "animal_products = ('milk', 'egg', 'cheese')\n",
    "food_stuff_tp = fruits + vegetables + animal_products\n",
    "print(food_stuff_tp)"
   ]
  },
  {
   "cell_type": "code",
   "execution_count": 29,
   "metadata": {},
   "outputs": [
    {
     "name": "stdout",
     "output_type": "stream",
     "text": [
      "['apple', 'banana', 'cherry', 'carrot', 'broccoli', 'spinach', 'milk', 'egg', 'cheese']\n"
     ]
    }
   ],
   "source": [
    "food_stuff_tp = ('apple', 'banana', 'cherry', 'carrot', 'broccoli', 'spinach', 'milk', 'egg', 'cheese')\n",
    "food_stuff_lt = list(food_stuff_tp) \n",
    "print(food_stuff_lt)"
   ]
  },
  {
   "cell_type": "code",
   "execution_count": 34,
   "metadata": {},
   "outputs": [
    {
     "name": "stdout",
     "output_type": "stream",
     "text": [
      "broccoli\n"
     ]
    }
   ],
   "source": [
    "food_stuff_tp = ('apple', 'banana', 'cherry', 'carrot', 'broccoli', 'spinach', 'milk', 'egg', 'cheese')\n",
    "middle_item = food_stuff_tp [4]\n",
    "print(middle_item)"
   ]
  },
  {
   "cell_type": "code",
   "execution_count": 36,
   "metadata": {},
   "outputs": [
    {
     "name": "stdout",
     "output_type": "stream",
     "text": [
      "('apple', 'banana', 'cherry')\n"
     ]
    }
   ],
   "source": [
    "first_three_items = food_stuff_tp [0:3]\n",
    "print(first_three_items)"
   ]
  },
  {
   "cell_type": "code",
   "execution_count": 41,
   "metadata": {},
   "outputs": [
    {
     "name": "stdout",
     "output_type": "stream",
     "text": [
      "('milk', 'egg', 'cheese')\n"
     ]
    }
   ],
   "source": [
    "last_three_items = food_stuff_tp [-3:]\n",
    "print(last_three_items)\n"
   ]
  },
  {
   "cell_type": "code",
   "execution_count": 46,
   "metadata": {},
   "outputs": [
    {
     "ename": "NameError",
     "evalue": "name 'food_stuff_tp' is not defined",
     "output_type": "error",
     "traceback": [
      "\u001b[1;31m---------------------------------------------------------------------------\u001b[0m",
      "\u001b[1;31mNameError\u001b[0m                                 Traceback (most recent call last)",
      "Cell \u001b[1;32mIn[46], line 3\u001b[0m\n\u001b[0;32m      1\u001b[0m food_stuff_tp \u001b[38;5;241m=\u001b[39m (\u001b[38;5;124m'\u001b[39m\u001b[38;5;124mapple\u001b[39m\u001b[38;5;124m'\u001b[39m, \u001b[38;5;124m'\u001b[39m\u001b[38;5;124mbanana\u001b[39m\u001b[38;5;124m'\u001b[39m, \u001b[38;5;124m'\u001b[39m\u001b[38;5;124mcherry\u001b[39m\u001b[38;5;124m'\u001b[39m, \u001b[38;5;124m'\u001b[39m\u001b[38;5;124mcarrot\u001b[39m\u001b[38;5;124m'\u001b[39m, \u001b[38;5;124m'\u001b[39m\u001b[38;5;124mbroccoli\u001b[39m\u001b[38;5;124m'\u001b[39m, \u001b[38;5;124m'\u001b[39m\u001b[38;5;124mspinach\u001b[39m\u001b[38;5;124m'\u001b[39m, \u001b[38;5;124m'\u001b[39m\u001b[38;5;124mmilk\u001b[39m\u001b[38;5;124m'\u001b[39m, \u001b[38;5;124m'\u001b[39m\u001b[38;5;124megg\u001b[39m\u001b[38;5;124m'\u001b[39m, \u001b[38;5;124m'\u001b[39m\u001b[38;5;124mcheese\u001b[39m\u001b[38;5;124m'\u001b[39m)\n\u001b[0;32m      2\u001b[0m \u001b[38;5;28;01mdel\u001b[39;00m food_stuff_tp\n\u001b[1;32m----> 3\u001b[0m \u001b[38;5;28mprint\u001b[39m(\u001b[43mfood_stuff_tp\u001b[49m)\n",
      "\u001b[1;31mNameError\u001b[0m: name 'food_stuff_tp' is not defined"
     ]
    }
   ],
   "source": [
    "food_stuff_tp = ('apple', 'banana', 'cherry', 'carrot', 'broccoli', 'spinach', 'milk', 'egg', 'cheese')\n",
    "del food_stuff_tp\n",
    "print(food_stuff_tp)"
   ]
  },
  {
   "cell_type": "code",
   "execution_count": 48,
   "metadata": {},
   "outputs": [
    {
     "name": "stdout",
     "output_type": "stream",
     "text": [
      "True\n"
     ]
    }
   ],
   "source": [
    "food_stuff_tp = ('apple', 'banana', 'cherry', 'carrot', 'broccoli', 'spinach', 'milk', 'egg', 'cheese')\n",
    "print('spinach' in food_stuff_tp)"
   ]
  },
  {
   "cell_type": "code",
   "execution_count": 54,
   "metadata": {},
   "outputs": [
    {
     "name": "stdout",
     "output_type": "stream",
     "text": [
      "False\n"
     ]
    }
   ],
   "source": [
    "nordic_countries = ('Denmark', 'Finland', 'Iceland', 'Norway', 'Sweden')\n",
    "print('Estonia' in nordic_countries)"
   ]
  },
  {
   "cell_type": "code",
   "execution_count": 57,
   "metadata": {},
   "outputs": [
    {
     "name": "stdout",
     "output_type": "stream",
     "text": [
      "True\n"
     ]
    }
   ],
   "source": [
    "nordic_countries = ('Denmark', 'Finland', 'Iceland', 'Norway', 'Sweden')\n",
    "print('Iceland' in nordic_countries)"
   ]
  },
  {
   "cell_type": "code",
   "execution_count": null,
   "metadata": {},
   "outputs": [],
   "source": []
  }
 ],
 "metadata": {
  "kernelspec": {
   "display_name": "Python 3",
   "language": "python",
   "name": "python3"
  },
  "language_info": {
   "codemirror_mode": {
    "name": "ipython",
    "version": 3
   },
   "file_extension": ".py",
   "mimetype": "text/x-python",
   "name": "python",
   "nbconvert_exporter": "python",
   "pygments_lexer": "ipython3",
   "version": "3.13.0"
  }
 },
 "nbformat": 4,
 "nbformat_minor": 2
}
